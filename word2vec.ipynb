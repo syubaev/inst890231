{
 "cells": [
  {
   "cell_type": "code",
   "execution_count": 2,
   "metadata": {
    "collapsed": true
   },
   "outputs": [],
   "source": [
    "import pandas as pd\n",
    "import numpy as np\n",
    "import gensim\n",
    "\n",
    "from tqdm import tnrange, tqdm_notebook\n",
    "from time import sleep"
   ]
  },
  {
   "cell_type": "code",
   "execution_count": 4,
   "metadata": {
    "collapsed": false
   },
   "outputs": [
    {
     "name": "stdout",
     "output_type": "stream",
     "text": [
      "\n"
     ]
    }
   ],
   "source": [
    "for i in tnrange(10, desc='1st loop'):\n",
    "    for j in tqdm_notebook(range(100), desc='2nd loop'):\n",
    "        sleep(0.01)"
   ]
  },
  {
   "cell_type": "code",
   "execution_count": null,
   "metadata": {
    "collapsed": true
   },
   "outputs": [],
   "source": []
  }
 ],
 "metadata": {
  "kernelspec": {
   "display_name": "Python 3",
   "language": "python",
   "name": "python3"
  },
  "language_info": {
   "codemirror_mode": {
    "name": "ipython",
    "version": 3
   },
   "file_extension": ".py",
   "mimetype": "text/x-python",
   "name": "python",
   "nbconvert_exporter": "python",
   "pygments_lexer": "ipython3",
   "version": "3.6.0"
  },
  "widgets": {
   "state": {
    "053f7f84d57a46b78feaf060e75f881f": {
     "views": [
      {
       "cell_index": 1
      }
     ]
    },
    "26456d321aa84a5481f64df36cb1ff56": {
     "views": [
      {
       "cell_index": 1
      }
     ]
    },
    "390e4bc9cb0646a3bd07d24256292c7c": {
     "views": [
      {
       "cell_index": 1
      }
     ]
    },
    "4751a04de815488b85b784a57442a969": {
     "views": [
      {
       "cell_index": 1
      }
     ]
    },
    "5f9b864be47e4c3eb372073392a3a92b": {
     "views": [
      {
       "cell_index": 1
      }
     ]
    },
    "74dc2c97797d4f458a979f98adc49aef": {
     "views": [
      {
       "cell_index": 1
      }
     ]
    },
    "99ef231c475e4c3d94ec8122500570eb": {
     "views": [
      {
       "cell_index": 1
      }
     ]
    },
    "a0fa4ec18f654dcdb4479036bba5d12f": {
     "views": [
      {
       "cell_index": 1
      }
     ]
    },
    "ae31fe6fd20048ca9c82e2794f49fce5": {
     "views": [
      {
       "cell_index": 1
      }
     ]
    },
    "ebd518e688324a8fb246d6d969f68c7e": {
     "views": [
      {
       "cell_index": 1
      }
     ]
    },
    "ebe4c01a726b430880a91114eb2573ba": {
     "views": [
      {
       "cell_index": 1
      }
     ]
    }
   },
   "version": "1.2.0"
  }
 },
 "nbformat": 4,
 "nbformat_minor": 2
}
