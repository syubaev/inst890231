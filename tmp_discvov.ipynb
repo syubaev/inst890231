{
 "cells": [
  {
   "cell_type": "code",
   "execution_count": 2,
   "metadata": {
    "collapsed": true
   },
   "outputs": [],
   "source": [
    "import numpy as np\n",
    "import pandas as pd\n",
    "import lightgbm as lgb\n",
    "\n",
    "pd.options.display.max_rows = 25"
   ]
  },
  {
   "cell_type": "code",
   "execution_count": 3,
   "metadata": {
    "collapsed": false
   },
   "outputs": [
    {
     "name": "stdout",
     "output_type": "stream",
     "text": [
      "loading prior\n",
      "loading train\n",
      "loading orders\n",
      "loading products\n",
      "priors (32434489, 4): order_id, product_id, add_to_cart_order, reordered\n",
      "orders (3421083, 7): order_id, user_id, eval_set, order_number, order_dow, order_hour_of_day, days_since_prior_order\n",
      "train (1384617, 4): order_id, product_id, add_to_cart_order, reordered\n",
      "computing product f\n",
      "add order info to priors\n"
     ]
    }
   ],
   "source": [
    "\n",
    "IDIR = '../data/'\n",
    "\n",
    "\n",
    "print('loading prior')\n",
    "priors = pd.read_csv(IDIR + 'order_products__prior.csv', dtype={\n",
    "            'order_id': np.int32,\n",
    "            'product_id': np.uint16,\n",
    "            'add_to_cart_order': np.int16,\n",
    "            'reordered': np.int8})\n",
    "\n",
    "print('loading train')\n",
    "train = pd.read_csv(IDIR + 'order_products__train.csv', dtype={\n",
    "            'order_id': np.int32,\n",
    "            'product_id': np.uint16,\n",
    "            'add_to_cart_order': np.int16,\n",
    "            'reordered': np.int8})\n",
    "\n",
    "print('loading orders')\n",
    "orders = pd.read_csv(IDIR + 'orders.csv', dtype={\n",
    "        'order_id': np.int32,\n",
    "        'user_id': np.int32,\n",
    "        'eval_set': 'category',\n",
    "        'order_number': np.int16,\n",
    "        'order_dow': np.int8,\n",
    "        'order_hour_of_day': np.int8,\n",
    "        'days_since_prior_order': np.float32})\n",
    "\n",
    "print('loading products')\n",
    "products = pd.read_csv(IDIR + 'products.csv', dtype={\n",
    "        'product_id': np.uint16,\n",
    "        'order_id': np.int32,\n",
    "        'aisle_id': np.uint8,\n",
    "        'department_id': np.uint8},\n",
    "        usecols=['product_id', 'aisle_id', 'department_id'])\n",
    "\n",
    "print('priors {}: {}'.format(priors.shape, ', '.join(priors.columns)))\n",
    "print('orders {}: {}'.format(orders.shape, ', '.join(orders.columns)))\n",
    "print('train {}: {}'.format(train.shape, ', '.join(train.columns)))\n",
    "\n",
    "###\n",
    "\n",
    "print('computing product f')\n",
    "prods = pd.DataFrame()\n",
    "prods['orders'] = priors.groupby(priors.product_id).size().astype(np.int32)\n",
    "prods['reorders'] = priors['reordered'].groupby(priors.product_id).sum().astype(np.float32)\n",
    "prods['reorder_rate'] = (prods.reorders / prods.orders).astype(np.float32)\n",
    "products = products.join(prods, on='product_id')\n",
    "products.set_index('product_id', drop=False, inplace=True)\n",
    "del prods\n",
    "\n",
    "\n",
    "print('add order info to priors')\n",
    "orders.set_index('order_id', inplace=True, drop=False)\n",
    "priors = priors.join(orders, on='order_id', rsuffix='_')\n",
    "priors.drop('order_id_', inplace=True, axis=1)\n"
   ]
  },
  {
   "cell_type": "code",
   "execution_count": 16,
   "metadata": {
    "collapsed": false
   },
   "outputs": [
    {
     "name": "stdout",
     "output_type": "stream",
     "text": [
      "order_id\n",
      "1187899    1187899\n",
      "1492625    1492625\n",
      "2196797    2196797\n",
      "525192      525192\n",
      "880375      880375\n",
      "Name: order_id, dtype: int32\n"
     ]
    },
    {
     "data": {
      "text/html": [
       "<div>\n",
       "<style>\n",
       "    .dataframe thead tr:only-child th {\n",
       "        text-align: right;\n",
       "    }\n",
       "\n",
       "    .dataframe thead th {\n",
       "        text-align: left;\n",
       "    }\n",
       "\n",
       "    .dataframe tbody tr th {\n",
       "        vertical-align: top;\n",
       "    }\n",
       "</style>\n",
       "<table border=\"1\" class=\"dataframe\">\n",
       "  <thead>\n",
       "    <tr style=\"text-align: right;\">\n",
       "      <th></th>\n",
       "      <th>order_id</th>\n",
       "      <th>product_id</th>\n",
       "      <th>add_to_cart_order</th>\n",
       "      <th>reordered</th>\n",
       "    </tr>\n",
       "  </thead>\n",
       "  <tbody>\n",
       "    <tr>\n",
       "      <th>484420</th>\n",
       "      <td>1187899</td>\n",
       "      <td>196</td>\n",
       "      <td>1</td>\n",
       "      <td>1</td>\n",
       "    </tr>\n",
       "    <tr>\n",
       "      <th>484421</th>\n",
       "      <td>1187899</td>\n",
       "      <td>25133</td>\n",
       "      <td>2</td>\n",
       "      <td>1</td>\n",
       "    </tr>\n",
       "    <tr>\n",
       "      <th>484422</th>\n",
       "      <td>1187899</td>\n",
       "      <td>38928</td>\n",
       "      <td>3</td>\n",
       "      <td>1</td>\n",
       "    </tr>\n",
       "    <tr>\n",
       "      <th>484423</th>\n",
       "      <td>1187899</td>\n",
       "      <td>26405</td>\n",
       "      <td>4</td>\n",
       "      <td>1</td>\n",
       "    </tr>\n",
       "    <tr>\n",
       "      <th>484424</th>\n",
       "      <td>1187899</td>\n",
       "      <td>39657</td>\n",
       "      <td>5</td>\n",
       "      <td>1</td>\n",
       "    </tr>\n",
       "    <tr>\n",
       "      <th>484425</th>\n",
       "      <td>1187899</td>\n",
       "      <td>10258</td>\n",
       "      <td>6</td>\n",
       "      <td>1</td>\n",
       "    </tr>\n",
       "    <tr>\n",
       "      <th>484426</th>\n",
       "      <td>1187899</td>\n",
       "      <td>13032</td>\n",
       "      <td>7</td>\n",
       "      <td>1</td>\n",
       "    </tr>\n",
       "    <tr>\n",
       "      <th>484427</th>\n",
       "      <td>1187899</td>\n",
       "      <td>26088</td>\n",
       "      <td>8</td>\n",
       "      <td>1</td>\n",
       "    </tr>\n",
       "    <tr>\n",
       "      <th>484428</th>\n",
       "      <td>1187899</td>\n",
       "      <td>27845</td>\n",
       "      <td>9</td>\n",
       "      <td>0</td>\n",
       "    </tr>\n",
       "    <tr>\n",
       "      <th>484429</th>\n",
       "      <td>1187899</td>\n",
       "      <td>49235</td>\n",
       "      <td>10</td>\n",
       "      <td>1</td>\n",
       "    </tr>\n",
       "    <tr>\n",
       "      <th>484430</th>\n",
       "      <td>1187899</td>\n",
       "      <td>46149</td>\n",
       "      <td>11</td>\n",
       "      <td>1</td>\n",
       "    </tr>\n",
       "  </tbody>\n",
       "</table>\n",
       "</div>"
      ],
      "text/plain": [
       "        order_id  product_id  add_to_cart_order  reordered\n",
       "484420   1187899         196                  1          1\n",
       "484421   1187899       25133                  2          1\n",
       "484422   1187899       38928                  3          1\n",
       "484423   1187899       26405                  4          1\n",
       "484424   1187899       39657                  5          1\n",
       "484425   1187899       10258                  6          1\n",
       "484426   1187899       13032                  7          1\n",
       "484427   1187899       26088                  8          1\n",
       "484428   1187899       27845                  9          0\n",
       "484429   1187899       49235                 10          1\n",
       "484430   1187899       46149                 11          1"
      ]
     },
     "execution_count": 16,
     "metadata": {},
     "output_type": "execute_result"
    }
   ],
   "source": [
    "print(orders[orders.eval_set == 'train'].order_id[:5])\n",
    "train[train.order_id == 1187899]"
   ]
  },
  {
   "cell_type": "code",
   "execution_count": 3,
   "metadata": {
    "collapsed": false
   },
   "outputs": [
    {
     "data": {
      "text/html": [
       "<div>\n",
       "<style>\n",
       "    .dataframe thead tr:only-child th {\n",
       "        text-align: right;\n",
       "    }\n",
       "\n",
       "    .dataframe thead th {\n",
       "        text-align: left;\n",
       "    }\n",
       "\n",
       "    .dataframe tbody tr th {\n",
       "        vertical-align: top;\n",
       "    }\n",
       "</style>\n",
       "<table border=\"1\" class=\"dataframe\">\n",
       "  <thead>\n",
       "    <tr style=\"text-align: right;\">\n",
       "      <th></th>\n",
       "      <th>product_id</th>\n",
       "      <th>aisle_id</th>\n",
       "      <th>department_id</th>\n",
       "      <th>orders</th>\n",
       "      <th>reorders</th>\n",
       "      <th>reorder_rate</th>\n",
       "    </tr>\n",
       "    <tr>\n",
       "      <th>product_id</th>\n",
       "      <th></th>\n",
       "      <th></th>\n",
       "      <th></th>\n",
       "      <th></th>\n",
       "      <th></th>\n",
       "      <th></th>\n",
       "    </tr>\n",
       "  </thead>\n",
       "  <tbody>\n",
       "    <tr>\n",
       "      <th>1</th>\n",
       "      <td>1</td>\n",
       "      <td>61</td>\n",
       "      <td>19</td>\n",
       "      <td>1852.0</td>\n",
       "      <td>1136.0</td>\n",
       "      <td>0.613391</td>\n",
       "    </tr>\n",
       "    <tr>\n",
       "      <th>2</th>\n",
       "      <td>2</td>\n",
       "      <td>104</td>\n",
       "      <td>13</td>\n",
       "      <td>90.0</td>\n",
       "      <td>12.0</td>\n",
       "      <td>0.133333</td>\n",
       "    </tr>\n",
       "    <tr>\n",
       "      <th>3</th>\n",
       "      <td>3</td>\n",
       "      <td>94</td>\n",
       "      <td>7</td>\n",
       "      <td>277.0</td>\n",
       "      <td>203.0</td>\n",
       "      <td>0.732852</td>\n",
       "    </tr>\n",
       "    <tr>\n",
       "      <th>4</th>\n",
       "      <td>4</td>\n",
       "      <td>38</td>\n",
       "      <td>1</td>\n",
       "      <td>329.0</td>\n",
       "      <td>147.0</td>\n",
       "      <td>0.446809</td>\n",
       "    </tr>\n",
       "    <tr>\n",
       "      <th>5</th>\n",
       "      <td>5</td>\n",
       "      <td>5</td>\n",
       "      <td>13</td>\n",
       "      <td>15.0</td>\n",
       "      <td>9.0</td>\n",
       "      <td>0.600000</td>\n",
       "    </tr>\n",
       "  </tbody>\n",
       "</table>\n",
       "</div>"
      ],
      "text/plain": [
       "            product_id  aisle_id  department_id  orders  reorders  \\\n",
       "product_id                                                          \n",
       "1                    1        61             19  1852.0    1136.0   \n",
       "2                    2       104             13    90.0      12.0   \n",
       "3                    3        94              7   277.0     203.0   \n",
       "4                    4        38              1   329.0     147.0   \n",
       "5                    5         5             13    15.0       9.0   \n",
       "\n",
       "            reorder_rate  \n",
       "product_id                \n",
       "1               0.613391  \n",
       "2               0.133333  \n",
       "3               0.732852  \n",
       "4               0.446809  \n",
       "5               0.600000  "
      ]
     },
     "execution_count": 3,
     "metadata": {},
     "output_type": "execute_result"
    }
   ],
   "source": [
    "products.head()"
   ]
  },
  {
   "cell_type": "code",
   "execution_count": 4,
   "metadata": {
    "collapsed": false
   },
   "outputs": [
    {
     "data": {
      "text/plain": [
       "dict_keys(['__name__', '__doc__', '__package__', '__loader__', '__spec__', '__builtin__', '__builtins__', '_ih', '_oh', '_dh', '_sh', 'In', 'Out', 'get_ipython', 'exit', 'quit', '_', '__', '___', '_i', '_ii', '_iii', '_i1', 'np', 'pd', 'lgb', '_i2', 'IDIR', 'priors', 'train', 'orders', 'products', '_i3', '_3', '_i4', 't'])"
      ]
     },
     "execution_count": 4,
     "metadata": {},
     "output_type": "execute_result"
    }
   ],
   "source": [
    "t = globals()\n",
    "t.keys()"
   ]
  },
  {
   "cell_type": "code",
   "execution_count": 5,
   "metadata": {
    "collapsed": false
   },
   "outputs": [
    {
     "data": {
      "text/plain": [
       "product_id\n",
       "1         1136.0\n",
       "2           12.0\n",
       "3          203.0\n",
       "4          147.0\n",
       "5            9.0\n",
       "6            3.0\n",
       "7           12.0\n",
       "8           83.0\n",
       "9           82.0\n",
       "10        1304.0\n",
       "11          59.0\n",
       "12         126.0\n",
       "          ...   \n",
       "49677       72.0\n",
       "49678      149.0\n",
       "49679       40.0\n",
       "49680      300.0\n",
       "49681       39.0\n",
       "49682       38.0\n",
       "49683    67313.0\n",
       "49684        1.0\n",
       "49685        6.0\n",
       "49686       84.0\n",
       "49687        6.0\n",
       "49688       15.0\n",
       "Name: reordered, Length: 49677, dtype: float32"
      ]
     },
     "execution_count": 5,
     "metadata": {},
     "output_type": "execute_result"
    }
   ],
   "source": [
    "priors['reordered'].groupby(priors.product_id).sum().astype(np.float32)"
   ]
  },
  {
   "cell_type": "code",
   "execution_count": 15,
   "metadata": {
    "collapsed": false
   },
   "outputs": [
    {
     "data": {
      "text/plain": [
       "product_id\n",
       "1         1852\n",
       "2           90\n",
       "3          277\n",
       "4          329\n",
       "5           15\n",
       "6            8\n",
       "7           30\n",
       "8          165\n",
       "9          156\n",
       "10        2572\n",
       "11         104\n",
       "12         246\n",
       "         ...  \n",
       "49677      221\n",
       "49678      377\n",
       "49679      132\n",
       "49680     1018\n",
       "49681       70\n",
       "49682      108\n",
       "49683    97315\n",
       "49684        9\n",
       "49685       49\n",
       "49686      120\n",
       "49687       13\n",
       "49688       89\n",
       "Length: 49677, dtype: int64"
      ]
     },
     "execution_count": 15,
     "metadata": {},
     "output_type": "execute_result"
    }
   ],
   "source": [
    "priors.groupby(priors.product_id).size()"
   ]
  },
  {
   "cell_type": "code",
   "execution_count": 7,
   "metadata": {
    "collapsed": false
   },
   "outputs": [
    {
     "name": "stdout",
     "output_type": "stream",
     "text": [
      "computing user f\n"
     ]
    }
   ],
   "source": [
    "print('computing user f')\n",
    "usr = pd.DataFrame()\n",
    "usr['average_days_between_orders'] = orders.groupby('user_id')['days_since_prior_order'].mean().astype(np.float32)\n",
    "usr['nb_orders'] = orders.groupby('user_id').size().astype(np.int16)\n",
    "\n",
    "users = pd.DataFrame()\n",
    "users['total_items'] = priors.groupby('user_id').size().astype(np.int16)\n",
    "users['all_products'] = priors.groupby('user_id')['product_id'].apply(set)\n",
    "users['total_distinct_items'] = (users.all_products.map(len)).astype(np.int16)\n",
    "\n",
    "users = users.join(usr)\n"
   ]
  },
  {
   "cell_type": "code",
   "execution_count": 8,
   "metadata": {
    "collapsed": false
   },
   "outputs": [
    {
     "data": {
      "text/plain": [
       "user_id\n",
       "1          18\n",
       "2         102\n",
       "3          33\n",
       "4          17\n",
       "5          23\n",
       "6          12\n",
       "7          68\n",
       "8          36\n",
       "9          58\n",
       "10         94\n",
       "11         61\n",
       "12         61\n",
       "         ... \n",
       "206198     35\n",
       "206199    134\n",
       "206200     95\n",
       "206201    174\n",
       "206202     74\n",
       "206203     84\n",
       "206204     43\n",
       "206205     24\n",
       "206206    150\n",
       "206207     92\n",
       "206208    198\n",
       "206209     68\n",
       "Name: total_distinct_items, Length: 206209, dtype: int16"
      ]
     },
     "execution_count": 8,
     "metadata": {},
     "output_type": "execute_result"
    }
   ],
   "source": [
    "users['total_distinct_items']"
   ]
  },
  {
   "cell_type": "code",
   "execution_count": 9,
   "metadata": {
    "collapsed": false
   },
   "outputs": [
    {
     "data": {
      "text/plain": [
       "0           20227933120\n",
       "1           20227928985\n",
       "2           20227909327\n",
       "3           20227945918\n",
       "4           20227930035\n",
       "5           20227917794\n",
       "6           20227940141\n",
       "7           20227901819\n",
       "8           20227943668\n",
       "9           20597033754\n",
       "10          20597024838\n",
       "11          20597017704\n",
       "               ...     \n",
       "32434477    17518512023\n",
       "32434478    17518547941\n",
       "32434479     2524707854\n",
       "32434480     2524745309\n",
       "32434481     2524721162\n",
       "32434482     2524718176\n",
       "32434483     2524735211\n",
       "32434484     2524739678\n",
       "32434485     2524711352\n",
       "32434486     2524704600\n",
       "32434487     2524724852\n",
       "32434488     2524705020\n",
       "Length: 32434489, dtype: int64"
      ]
     },
     "execution_count": 9,
     "metadata": {},
     "output_type": "execute_result"
    }
   ],
   "source": [
    "priors.product_id + priors.user_id * 100000"
   ]
  },
  {
   "cell_type": "code",
   "execution_count": 10,
   "metadata": {
    "collapsed": false
   },
   "outputs": [
    {
     "data": {
      "text/plain": [
       "0           33120\n",
       "1           28985\n",
       "2            9327\n",
       "3           45918\n",
       "4           30035\n",
       "5           17794\n",
       "6           40141\n",
       "7            1819\n",
       "8           43668\n",
       "9           33754\n",
       "10          24838\n",
       "11          17704\n",
       "            ...  \n",
       "32434477    12023\n",
       "32434478    47941\n",
       "32434479     7854\n",
       "32434480    45309\n",
       "32434481    21162\n",
       "32434482    18176\n",
       "32434483    35211\n",
       "32434484    39678\n",
       "32434485    11352\n",
       "32434486     4600\n",
       "32434487    24852\n",
       "32434488     5020\n",
       "Name: product_id, Length: 32434489, dtype: uint16"
      ]
     },
     "execution_count": 10,
     "metadata": {},
     "output_type": "execute_result"
    }
   ],
   "source": [
    "priors.product_id"
   ]
  },
  {
   "cell_type": "code",
   "execution_count": 11,
   "metadata": {
    "collapsed": true
   },
   "outputs": [],
   "source": [
    "priors['user_product'] = priors.product_id + priors.user_id * 100000"
   ]
  },
  {
   "cell_type": "code",
   "execution_count": 12,
   "metadata": {
    "collapsed": false
   },
   "outputs": [
    {
     "data": {
      "text/plain": [
       "0           20227933120\n",
       "1           20227928985\n",
       "2           20227909327\n",
       "3           20227945918\n",
       "4           20227930035\n",
       "5           20227917794\n",
       "6           20227940141\n",
       "7           20227901819\n",
       "8           20227943668\n",
       "9           20597033754\n",
       "10          20597024838\n",
       "11          20597017704\n",
       "               ...     \n",
       "32434477    17518512023\n",
       "32434478    17518547941\n",
       "32434479     2524707854\n",
       "32434480     2524745309\n",
       "32434481     2524721162\n",
       "32434482     2524718176\n",
       "32434483     2524735211\n",
       "32434484     2524739678\n",
       "32434485     2524711352\n",
       "32434486     2524704600\n",
       "32434487     2524724852\n",
       "32434488     2524705020\n",
       "Name: user_product, Length: 32434489, dtype: int64"
      ]
     },
     "execution_count": 12,
     "metadata": {},
     "output_type": "execute_result"
    }
   ],
   "source": [
    "priors.user_product"
   ]
  },
  {
   "cell_type": "code",
   "execution_count": 13,
   "metadata": {
    "collapsed": true
   },
   "outputs": [],
   "source": [
    "d= dict()\n",
    "for row in priors.itertuples():\n",
    "    z = row.user_product\n",
    "    if z not in d:\n",
    "        d[z] = (1,\n",
    "                (row.order_number, row.order_id),\n",
    "                row.add_to_cart_order)\n",
    "    else:\n",
    "        d[z] = (d[z][0] + 1,\n",
    "                max(d[z][1], (row.order_number, row.order_id)),\n",
    "                d[z][2] + row.add_to_cart_order)"
   ]
  },
  {
   "cell_type": "code",
   "execution_count": 18,
   "metadata": {
    "collapsed": false
   },
   "outputs": [
    {
     "data": {
      "text/plain": [
       "(26, 1929747)"
      ]
     },
     "execution_count": 18,
     "metadata": {},
     "output_type": "execute_result"
    }
   ],
   "source": [
    "max(d[z][1], (row.order_number, row.order_id))\n"
   ]
  },
  {
   "cell_type": "code",
   "execution_count": null,
   "metadata": {
    "collapsed": false
   },
   "outputs": [],
   "source": [
    "d[15612224773]"
   ]
  },
  {
   "cell_type": "code",
   "execution_count": 30,
   "metadata": {
    "collapsed": true
   },
   "outputs": [],
   "source": [
    "userXproduct = pd.DataFrame.from_dict(d, orient='index')"
   ]
  },
  {
   "cell_type": "code",
   "execution_count": 31,
   "metadata": {
    "collapsed": false
   },
   "outputs": [],
   "source": [
    "userXproduct.columns = ['nb_orders', 'last_order_id', 'sum_pos_in_cart']"
   ]
  },
  {
   "cell_type": "code",
   "execution_count": 32,
   "metadata": {
    "collapsed": false
   },
   "outputs": [
    {
     "name": "stdout",
     "output_type": "stream",
     "text": [
      "user X product f 13307953\n"
     ]
    }
   ],
   "source": [
    "userXproduct.columns = ['nb_orders', 'last_order_id', 'sum_pos_in_cart']\n",
    "userXproduct.nb_orders = userXproduct.nb_orders.astype(np.int16)\n",
    "userXproduct.last_order_id = userXproduct.last_order_id.map(lambda x: x[1]).astype(np.int32)\n",
    "userXproduct.sum_pos_in_cart = userXproduct.sum_pos_in_cart.astype(np.int16)\n",
    "print('user X product f', len(userXproduct))"
   ]
  },
  {
   "cell_type": "code",
   "execution_count": 33,
   "metadata": {
    "collapsed": false
   },
   "outputs": [
    {
     "data": {
      "text/html": [
       "<div>\n",
       "<style>\n",
       "    .dataframe thead tr:only-child th {\n",
       "        text-align: right;\n",
       "    }\n",
       "\n",
       "    .dataframe thead th {\n",
       "        text-align: left;\n",
       "    }\n",
       "\n",
       "    .dataframe tbody tr th {\n",
       "        vertical-align: top;\n",
       "    }\n",
       "</style>\n",
       "<table border=\"1\" class=\"dataframe\">\n",
       "  <thead>\n",
       "    <tr style=\"text-align: right;\">\n",
       "      <th></th>\n",
       "      <th>nb_orders</th>\n",
       "      <th>last_order_id</th>\n",
       "      <th>sum_pos_in_cart</th>\n",
       "    </tr>\n",
       "  </thead>\n",
       "  <tbody>\n",
       "    <tr>\n",
       "      <th>20227933120</th>\n",
       "      <td>5</td>\n",
       "      <td>104690</td>\n",
       "      <td>10</td>\n",
       "    </tr>\n",
       "    <tr>\n",
       "      <th>20227928985</th>\n",
       "      <td>5</td>\n",
       "      <td>132412</td>\n",
       "      <td>16</td>\n",
       "    </tr>\n",
       "    <tr>\n",
       "      <th>20227909327</th>\n",
       "      <td>1</td>\n",
       "      <td>2</td>\n",
       "      <td>3</td>\n",
       "    </tr>\n",
       "    <tr>\n",
       "      <th>20227945918</th>\n",
       "      <td>5</td>\n",
       "      <td>2382766</td>\n",
       "      <td>24</td>\n",
       "    </tr>\n",
       "    <tr>\n",
       "      <th>20227930035</th>\n",
       "      <td>3</td>\n",
       "      <td>2382766</td>\n",
       "      <td>14</td>\n",
       "    </tr>\n",
       "    <tr>\n",
       "      <th>20227917794</th>\n",
       "      <td>7</td>\n",
       "      <td>2382766</td>\n",
       "      <td>25</td>\n",
       "    </tr>\n",
       "    <tr>\n",
       "      <th>20227940141</th>\n",
       "      <td>5</td>\n",
       "      <td>132412</td>\n",
       "      <td>29</td>\n",
       "    </tr>\n",
       "    <tr>\n",
       "      <th>20227901819</th>\n",
       "      <td>2</td>\n",
       "      <td>2</td>\n",
       "      <td>19</td>\n",
       "    </tr>\n",
       "    <tr>\n",
       "      <th>20227943668</th>\n",
       "      <td>3</td>\n",
       "      <td>132412</td>\n",
       "      <td>20</td>\n",
       "    </tr>\n",
       "    <tr>\n",
       "      <th>20597033754</th>\n",
       "      <td>17</td>\n",
       "      <td>368699</td>\n",
       "      <td>86</td>\n",
       "    </tr>\n",
       "    <tr>\n",
       "      <th>20597024838</th>\n",
       "      <td>14</td>\n",
       "      <td>368699</td>\n",
       "      <td>58</td>\n",
       "    </tr>\n",
       "    <tr>\n",
       "      <th>20597017704</th>\n",
       "      <td>13</td>\n",
       "      <td>368699</td>\n",
       "      <td>72</td>\n",
       "    </tr>\n",
       "    <tr>\n",
       "      <th>...</th>\n",
       "      <td>...</td>\n",
       "      <td>...</td>\n",
       "      <td>...</td>\n",
       "    </tr>\n",
       "    <tr>\n",
       "      <th>11707603060</th>\n",
       "      <td>1</td>\n",
       "      <td>3421081</td>\n",
       "      <td>4</td>\n",
       "    </tr>\n",
       "    <tr>\n",
       "      <th>11707620539</th>\n",
       "      <td>1</td>\n",
       "      <td>3421081</td>\n",
       "      <td>5</td>\n",
       "    </tr>\n",
       "    <tr>\n",
       "      <th>11707635221</th>\n",
       "      <td>1</td>\n",
       "      <td>3421081</td>\n",
       "      <td>6</td>\n",
       "    </tr>\n",
       "    <tr>\n",
       "      <th>11707612861</th>\n",
       "      <td>1</td>\n",
       "      <td>3421081</td>\n",
       "      <td>7</td>\n",
       "    </tr>\n",
       "    <tr>\n",
       "      <th>17518512023</th>\n",
       "      <td>1</td>\n",
       "      <td>3421082</td>\n",
       "      <td>6</td>\n",
       "    </tr>\n",
       "    <tr>\n",
       "      <th>17518547941</th>\n",
       "      <td>1</td>\n",
       "      <td>3421082</td>\n",
       "      <td>7</td>\n",
       "    </tr>\n",
       "    <tr>\n",
       "      <th>2524707854</th>\n",
       "      <td>1</td>\n",
       "      <td>3421083</td>\n",
       "      <td>1</td>\n",
       "    </tr>\n",
       "    <tr>\n",
       "      <th>2524745309</th>\n",
       "      <td>1</td>\n",
       "      <td>3421083</td>\n",
       "      <td>2</td>\n",
       "    </tr>\n",
       "    <tr>\n",
       "      <th>2524721162</th>\n",
       "      <td>1</td>\n",
       "      <td>3421083</td>\n",
       "      <td>3</td>\n",
       "    </tr>\n",
       "    <tr>\n",
       "      <th>2524735211</th>\n",
       "      <td>1</td>\n",
       "      <td>3421083</td>\n",
       "      <td>5</td>\n",
       "    </tr>\n",
       "    <tr>\n",
       "      <th>2524711352</th>\n",
       "      <td>1</td>\n",
       "      <td>3421083</td>\n",
       "      <td>7</td>\n",
       "    </tr>\n",
       "    <tr>\n",
       "      <th>2524704600</th>\n",
       "      <td>1</td>\n",
       "      <td>3421083</td>\n",
       "      <td>8</td>\n",
       "    </tr>\n",
       "  </tbody>\n",
       "</table>\n",
       "<p>13307953 rows × 3 columns</p>\n",
       "</div>"
      ],
      "text/plain": [
       "             nb_orders  last_order_id  sum_pos_in_cart\n",
       "20227933120          5         104690               10\n",
       "20227928985          5         132412               16\n",
       "20227909327          1              2                3\n",
       "20227945918          5        2382766               24\n",
       "20227930035          3        2382766               14\n",
       "20227917794          7        2382766               25\n",
       "20227940141          5         132412               29\n",
       "20227901819          2              2               19\n",
       "20227943668          3         132412               20\n",
       "20597033754         17         368699               86\n",
       "20597024838         14         368699               58\n",
       "20597017704         13         368699               72\n",
       "...                ...            ...              ...\n",
       "11707603060          1        3421081                4\n",
       "11707620539          1        3421081                5\n",
       "11707635221          1        3421081                6\n",
       "11707612861          1        3421081                7\n",
       "17518512023          1        3421082                6\n",
       "17518547941          1        3421082                7\n",
       "2524707854           1        3421083                1\n",
       "2524745309           1        3421083                2\n",
       "2524721162           1        3421083                3\n",
       "2524735211           1        3421083                5\n",
       "2524711352           1        3421083                7\n",
       "2524704600           1        3421083                8\n",
       "\n",
       "[13307953 rows x 3 columns]"
      ]
     },
     "execution_count": 33,
     "metadata": {},
     "output_type": "execute_result"
    }
   ],
   "source": [
    "userXproduct"
   ]
  },
  {
   "cell_type": "code",
   "execution_count": null,
   "metadata": {
    "collapsed": true
   },
   "outputs": [],
   "source": []
  },
  {
   "cell_type": "code",
   "execution_count": null,
   "metadata": {
    "collapsed": false
   },
   "outputs": [],
   "source": [
    "userXproduct"
   ]
  },
  {
   "cell_type": "code",
   "execution_count": 21,
   "metadata": {
    "collapsed": true
   },
   "outputs": [],
   "source": [
    "train_orders = orders[orders.eval_set == 'train']\n",
    "train.set_index(['order_id', 'product_id'], inplace=True, drop=False)"
   ]
  },
  {
   "cell_type": "code",
   "execution_count": 27,
   "metadata": {
    "collapsed": false
   },
   "outputs": [
    {
     "data": {
      "text/plain": [
       "False"
      ]
     },
     "execution_count": 27,
     "metadata": {},
     "output_type": "execute_result"
    }
   ],
   "source": [
    "(146428, 146428) in train.index[:10]"
   ]
  },
  {
   "cell_type": "code",
   "execution_count": 35,
   "metadata": {
    "collapsed": false
   },
   "outputs": [
    {
     "data": {
      "text/plain": [
       "Index(['order_id', 'user_id', 'eval_set', 'order_number', 'order_dow',\n",
       "       'order_hour_of_day', 'days_since_prior_order'],\n",
       "      dtype='object')"
      ]
     },
     "execution_count": 35,
     "metadata": {},
     "output_type": "execute_result"
    }
   ],
   "source": [
    "train_orders.columns"
   ]
  },
  {
   "cell_type": "code",
   "execution_count": null,
   "metadata": {
    "collapsed": true
   },
   "outputs": [],
   "source": []
  }
 ],
 "metadata": {
  "kernelspec": {
   "display_name": "Python 3",
   "language": "python",
   "name": "python3"
  },
  "language_info": {
   "codemirror_mode": {
    "name": "ipython",
    "version": 3
   },
   "file_extension": ".py",
   "mimetype": "text/x-python",
   "name": "python",
   "nbconvert_exporter": "python",
   "pygments_lexer": "ipython3",
   "version": "3.6.0"
  }
 },
 "nbformat": 4,
 "nbformat_minor": 2
}
