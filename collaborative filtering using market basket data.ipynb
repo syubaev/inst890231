{
 "cells": [
  {
   "cell_type": "markdown",
   "metadata": {},
   "source": [
    "# Classification-based collaborative filtering using market basket data\n",
    "Jong-Seok Lee, Chi-Hyuck Jun*, Jaewook Lee, Sooyoung Kim  \n",
    "Department of Industrial Engineering, Pohang University of Science and Technology, San 31 Hyoja-dong, Pohang 790-784, South Korea\n",
    "\n",
    "$$P_{aj} = k_a \\sum_{i=1}^n w(a,i)v_{ij}$$\n",
    "$$ \n",
    "w(a,i) = \\frac\n",
    "{\\sum_{j}(v_{aj} - \\bar{v_a}) * (v_{ij} - \\bar{v_i}) }\n",
    "{\\sum_{j}(v_{aj} - \\bar{v_a})^2 \\sum_{j}(v_{ij} - \\bar{v_i})^2}\n",
    "$$\n",
    "$k_a$ is a normalizing factor such that the absolute values of the weights sum to unity\n",
    "\n",
    "$$k_a = \\frac\n",
    "{1}\n",
    "{\\sum_{i}|w(a,i)|}$$\n",
    "\n",
    "<img src=\"img\\wai.png\">\n",
    "\n",
    "C - prior users products  \n",
    "D - train users products  \n",
    "A - split from train  \n",
    "B - split from train  \n"
   ]
  },
  {
   "cell_type": "code",
   "execution_count": 5,
   "metadata": {
    "collapsed": true
   },
   "outputs": [],
   "source": [
    "import numpy as np\n",
    "import pandas as pd\n",
    "import lightgbm as lgb\n",
    "IDIR = '../data/'\n",
    "\n",
    "pd.options.display.max_rows = 25\n",
    "pd.options.display.max_columns = 25"
   ]
  },
  {
   "cell_type": "code",
   "execution_count": 3,
   "metadata": {
    "collapsed": false
   },
   "outputs": [
    {
     "name": "stdout",
     "output_type": "stream",
     "text": [
      "loading prior\n",
      "loading train\n",
      "loading orders\n",
      "loading products\n",
      "priors (32434489, 4): order_id, product_id, add_to_cart_order, reordered\n",
      "orders (3421083, 7): order_id, user_id, eval_set, order_number, order_dow, order_hour_of_day, days_since_prior_order\n",
      "train (1384617, 4): order_id, product_id, add_to_cart_order, reordered\n",
      "computing product f\n",
      "add order info to priors\n",
      "computing user f\n",
      "user f (206209, 6)\n"
     ]
    }
   ],
   "source": [
    "print('loading prior')\n",
    "priors = pd.read_csv(IDIR + 'order_products__prior.csv', dtype={\n",
    "            'order_id': np.int32,\n",
    "            'product_id': np.uint16,\n",
    "            'add_to_cart_order': np.int16,\n",
    "            'reordered': np.int8})\n",
    "\n",
    "print('loading train')\n",
    "train = pd.read_csv(IDIR + 'order_products__train.csv', dtype={\n",
    "            'order_id': np.int32,\n",
    "            'product_id': np.uint16,\n",
    "            'add_to_cart_order': np.int16,\n",
    "            'reordered': np.int8})\n",
    "\n",
    "print('loading orders')\n",
    "orders = pd.read_csv(IDIR + 'orders.csv', dtype={\n",
    "        'order_id': np.int32,\n",
    "        'user_id': np.int32,\n",
    "        'eval_set': 'category',\n",
    "        'order_number': np.int16,\n",
    "        'order_dow': np.int8,\n",
    "        'order_hour_of_day': np.int8,\n",
    "        'days_since_prior_order': np.float32})\n",
    "\n",
    "print('loading products')\n",
    "products = pd.read_csv(IDIR + 'products.csv', dtype={\n",
    "        'product_id': np.uint16,\n",
    "        'order_id': np.int32,\n",
    "        'aisle_id': np.uint8,\n",
    "        'department_id': np.uint8},\n",
    "        usecols=['product_id', 'aisle_id', 'department_id'])\n",
    "\n",
    "print('priors {}: {}'.format(priors.shape, ', '.join(priors.columns)))\n",
    "print('orders {}: {}'.format(orders.shape, ', '.join(orders.columns)))\n",
    "print('train {}: {}'.format(train.shape, ', '.join(train.columns)))\n",
    "\n",
    "###\n",
    "\n",
    "print('computing product f')\n",
    "prods = pd.DataFrame()\n",
    "\n",
    "# кол-во заказов по продуктам\n",
    "prods['orders'] = priors.groupby(priors.product_id).size().astype(np.int32) \n",
    "# кол-во перезаказов по продуктам\n",
    "prods['reorders'] = priors['reordered'].groupby(priors.product_id).sum().astype(np.float32)\n",
    "prods['reorder_rate'] = (prods.reorders / prods.orders).astype(np.float32)\n",
    "products = products.join(prods, on='product_id')\n",
    "products.set_index('product_id', drop=False, inplace=True)\n",
    "del prods\n",
    "\n",
    "\n",
    "print('add order info to priors')\n",
    "orders.set_index('order_id', inplace=True, drop=False)\n",
    "priors = priors.join(orders, on='order_id', rsuffix='_')\n",
    "priors.drop('order_id_', inplace=True, axis=1)\n",
    "\n",
    "print('computing user f')\n",
    "usr = pd.DataFrame()\n",
    "usr['average_days_between_orders'] = orders.groupby('user_id')['days_since_prior_order'].mean().astype(np.float32)\n",
    "usr['nb_orders'] = orders.groupby('user_id').size().astype(np.int16)\n",
    "\n",
    "users = pd.DataFrame()\n",
    "users['total_items'] = priors.groupby('user_id').size().astype(np.int16)\n",
    "users['all_products'] = priors.groupby('user_id')['product_id'].apply(set)\n",
    "users['total_distinct_items'] = (users.all_products.map(len)).astype(np.int16)\n",
    "\n",
    "users = users.join(usr)\n",
    "del usr\n",
    "users['average_basket'] = (users.total_items / users.nb_orders).astype(np.float32)\n",
    "print('user f', users.shape)"
   ]
  },
  {
   "cell_type": "markdown",
   "metadata": {},
   "source": [
    "# Данные\n",
    "Юзеры из трейна и теста не пересекаються."
   ]
  },
  {
   "cell_type": "code",
   "execution_count": 17,
   "metadata": {
    "collapsed": false
   },
   "outputs": [
    {
     "data": {
      "text/html": [
       "<div>\n",
       "<style>\n",
       "    .dataframe thead tr:only-child th {\n",
       "        text-align: right;\n",
       "    }\n",
       "\n",
       "    .dataframe thead th {\n",
       "        text-align: left;\n",
       "    }\n",
       "\n",
       "    .dataframe tbody tr th {\n",
       "        vertical-align: top;\n",
       "    }\n",
       "</style>\n",
       "<table border=\"1\" class=\"dataframe\">\n",
       "  <thead>\n",
       "    <tr style=\"text-align: right;\">\n",
       "      <th></th>\n",
       "      <th>order_id</th>\n",
       "      <th>product_id</th>\n",
       "      <th>add_to_cart_order</th>\n",
       "      <th>reordered</th>\n",
       "      <th>user_id</th>\n",
       "      <th>eval_set</th>\n",
       "      <th>order_number</th>\n",
       "      <th>order_dow</th>\n",
       "      <th>order_hour_of_day</th>\n",
       "      <th>days_since_prior_order</th>\n",
       "    </tr>\n",
       "  </thead>\n",
       "  <tbody>\n",
       "  </tbody>\n",
       "</table>\n",
       "</div>"
      ],
      "text/plain": [
       "Empty DataFrame\n",
       "Columns: [order_id, product_id, add_to_cart_order, reordered, user_id, eval_set, order_number, order_dow, order_hour_of_day, days_since_prior_order]\n",
       "Index: []"
      ]
     },
     "execution_count": 17,
     "metadata": {},
     "output_type": "execute_result"
    }
   ],
   "source": [
    "priors[priors.order_id == 1187899]"
   ]
  },
  {
   "cell_type": "code",
   "execution_count": 21,
   "metadata": {
    "collapsed": false
   },
   "outputs": [],
   "source": [
    "\n",
    "us_test = orders[orders.eval_set == 'test'].user_id\n"
   ]
  },
  {
   "cell_type": "code",
   "execution_count": 26,
   "metadata": {
    "collapsed": false
   },
   "outputs": [
    {
     "data": {
      "text/plain": [
       "set()"
      ]
     },
     "execution_count": 26,
     "metadata": {},
     "output_type": "execute_result"
    }
   ],
   "source": [
    "set(us_train).intersection(set(us_test))"
   ]
  },
  {
   "cell_type": "markdown",
   "metadata": {},
   "source": [
    "### Сделаем разбивку трейн_Тест\n",
    "\n",
    "us_train - A side  \n",
    "us_test - B"
   ]
  },
  {
   "cell_type": "code",
   "execution_count": 69,
   "metadata": {
    "collapsed": true
   },
   "outputs": [],
   "source": [
    "from sklearn.model_selection import train_test_split\n",
    "us_all = orders[orders.eval_set == 'train'].user_id\n",
    "# len(us_train), len(us_train.unique())# юзеры и заказы в трейне уникальны\n",
    "us_train, us_test = train_test_split(us_all, test_size=0.2, random_state=42)"
   ]
  },
  {
   "cell_type": "markdown",
   "metadata": {},
   "source": [
    "### Create C and D parts\n",
    "\n",
    "C - prior users products  \n",
    "user_prior_products_str  \n",
    "C - должна быть по всем юзерам и из A и B множества\n",
    "С выборка содержит сет по всем заказам\n",
    "\n",
    "D - train users products  \n",
    "user_train_products_str  \n",
    "D - должна быть по всем юзерам и из A и B множества"
   ]
  },
  {
   "cell_type": "code",
   "execution_count": 78,
   "metadata": {
    "collapsed": false
   },
   "outputs": [],
   "source": [
    "user_prior_products_str_C = users.loc[us_all.values, 'all_products'].\\\n",
    "    apply(lambda all_products: \" \".join([str(prod_id) + '_C' for prod_id in all_products]))"
   ]
  },
  {
   "cell_type": "code",
   "execution_count": 77,
   "metadata": {
    "collapsed": false
   },
   "outputs": [],
   "source": [
    "#orders[orders.eval_set == 'train']\n",
    "train[train.order_id == 1492625]\n",
    "\n",
    "train = train.join(orders, on='order_id', rsuffix='_')\n",
    "train.drop('order_id_', inplace=True, axis=1)\n",
    "\n",
    "\n",
    "users_train = pd.DataFrame()\n",
    "#users['total_items'] = priors.groupby('user_id').size().astype(np.int16)\n",
    "users_train['all_products'] = train.groupby('user_id')['product_id'].apply(set)\n",
    "\n",
    "user_train_products_str_D = users_train.loc[us_all.values, 'all_products'].\\\n",
    "    apply(lambda all_products: \" \".join([str(prod_id) + '_D' for prod_id in all_products]))"
   ]
  },
  {
   "cell_type": "code",
   "execution_count": 76,
   "metadata": {
    "collapsed": false
   },
   "outputs": [],
   "source": [
    "from sklearn.feature_extraction.text import CountVectorizer"
   ]
  },
  {
   "cell_type": "code",
   "execution_count": 84,
   "metadata": {
    "collapsed": false
   },
   "outputs": [
    {
     "data": {
      "text/plain": [
       "CountVectorizer(analyzer='word', binary=False, decode_error='strict',\n",
       "        dtype=<class 'numpy.int64'>, encoding='utf-8', input='content',\n",
       "        lowercase=True, max_df=1.0, max_features=None, min_df=1,\n",
       "        ngram_range=(1, 1), preprocessor=None, stop_words=None,\n",
       "        strip_accents=None, token_pattern='(?u)\\\\b\\\\w\\\\w+\\\\b',\n",
       "        tokenizer=None, vocabulary=None)"
      ]
     },
     "execution_count": 84,
     "metadata": {},
     "output_type": "execute_result"
    }
   ],
   "source": [
    "#X = user_train_products_str_D.str.cat(user_prior_products_str_C, sep=' ')\n",
    "#cntvect = CountVectorizer()\n",
    "#cntvect.fit(X)"
   ]
  },
  {
   "cell_type": "code",
   "execution_count": 92,
   "metadata": {
    "collapsed": false
   },
   "outputs": [],
   "source": [
    "X_D = CountVectorizer().fit_transform(user_train_products_str_D)\n",
    "X_C = CountVectorizer().fit_transform(user_prior_products_str_C)"
   ]
  },
  {
   "cell_type": "code",
   "execution_count": 104,
   "metadata": {
    "collapsed": false
   },
   "outputs": [],
   "source": [
    "X_D = (X_D > 0).astype(np.int16)\n",
    "X_C = (X_C > 0).astype(np.int16)"
   ]
  },
  {
   "cell_type": "markdown",
   "metadata": {},
   "source": [
    "Расчет w для X_D\n",
    "\n",
    "$$P_{aj} = k_a \\sum_{i=1}^n w(a,i)v_{ij}$$\n",
    "$$ \n",
    "w(a,i) = \\frac\n",
    "{\\sum_{j}(v_{aj} - \\bar{v_a}) * (v_{ij} - \\bar{v_i}) }\n",
    "{\\sum_{j}(v_{aj} - \\bar{v_a})^2 \\sum_{j}(v_{ij} - \\bar{v_i})^2}\n",
    "$$\n",
    "$k_a$ is a normalizing factor such that the absolute values of the weights sum to unity\n",
    "\n",
    "$$k_a = \\frac\n",
    "{1}\n",
    "{\\sum_{i}|w(a,i)|}$$"
   ]
  },
  {
   "cell_type": "code",
   "execution_count": 124,
   "metadata": {
    "collapsed": false
   },
   "outputs": [],
   "source": [
    "u_v_mean = X_C.mean(axis=1)\n",
    "#X_C_center = \n",
    "m_test = X_C[:2,:].todense() # тестовая матрица из 2ух ползователей"
   ]
  },
  {
   "cell_type": "code",
   "execution_count": 125,
   "metadata": {
    "collapsed": false
   },
   "outputs": [
    {
     "data": {
      "text/plain": [
       "matrix([[0, 0, 0, ..., 0, 0, 0],\n",
       "        [0, 0, 0, ..., 0, 0, 0]], dtype=int16)"
      ]
     },
     "execution_count": 125,
     "metadata": {},
     "output_type": "execute_result"
    }
   ],
   "source": [
    "wm_test"
   ]
  },
  {
   "cell_type": "code",
   "execution_count": null,
   "metadata": {
    "collapsed": true
   },
   "outputs": [],
   "source": []
  }
 ],
 "metadata": {
  "kernelspec": {
   "display_name": "Python 3",
   "language": "python",
   "name": "python3"
  },
  "language_info": {
   "codemirror_mode": {
    "name": "ipython",
    "version": 3
   },
   "file_extension": ".py",
   "mimetype": "text/x-python",
   "name": "python",
   "nbconvert_exporter": "python",
   "pygments_lexer": "ipython3",
   "version": "3.6.0"
  }
 },
 "nbformat": 4,
 "nbformat_minor": 2
}
